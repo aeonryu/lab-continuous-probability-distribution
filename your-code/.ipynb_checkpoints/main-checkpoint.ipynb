{
 "cells": [
  {
   "cell_type": "markdown",
   "metadata": {},
   "source": [
    "# Before your start:\n",
    "\n",
    "    Read the README.md file\n",
    "    Comment as much as you can and use the resources (README.md file)\n",
    "    Happy learning!"
   ]
  },
  {
   "cell_type": "markdown",
   "metadata": {},
   "source": [
    "In this exercise, we  will generate random numbers from the continuous disributions we learned in the lesson. There are two ways to generate random numbers:\n",
    "\n",
    "1. Using the numpy library \n",
    "1. using the Scipy library \n",
    "\n",
    "Use either or both of the lbraries in this exercise."
   ]
  },
  {
   "cell_type": "markdown",
   "metadata": {},
   "source": [
    "## Uniform Distribution\n",
    "\n",
    "To generate uniform random numbers between any two given values using scipy, we can either use the following code or the code that we have\n",
    "discussed in class:"
   ]
  },
  {
   "cell_type": "code",
   "execution_count": 1,
   "metadata": {},
   "outputs": [
    {
     "name": "stdout",
     "output_type": "stream",
     "text": [
      "[0.82657383 0.99756483 0.06349996 0.50370729 0.51861656 0.15942861\n",
      " 0.48664093 0.64817576 0.98877792 0.8197811 ]\n",
      "[2.82657383 2.99756483 2.06349996 2.50370729 2.51861656 2.15942861\n",
      " 2.48664093 2.64817576 2.98877792 2.8197811 ]\n"
     ]
    }
   ],
   "source": [
    "from scipy.stats import uniform\n",
    "x = uniform.rvs(size=10) #rvs random value sample\n",
    "a = 2\n",
    "b = 3\n",
    "randoms  = a + (b-a)*x #con esto quedan entre a y b, el 2 y 3\n",
    "print(x)\n",
    "print(randoms)"
   ]
  },
  {
   "cell_type": "markdown",
   "metadata": {},
   "source": [
    "**Your task:**\n",
    "\n",
    "1. Based on the code above, write a function that generates uniformly distributed random numbers. There are several requirements for your function:\n",
    "    * It should accept 3 parameters: \n",
    "        * `bottom` - the lower boundary of the generated numbers\n",
    "        * `ceiling` - the upper boundary of the generated numbers\n",
    "        * `count` - how many numbers to generate\n",
    "    * It should return an array of uniformly distributed random numbers\n",
    "\n",
    "1. Call your function with 2 sets of params below:\n",
    "    * bottom=10, ceiling=15, count=100\n",
    "    * bottom=10, ceiling=60, count=1,000\n",
    "\n",
    "1. Plot the uniform distributions generated above using histograms, where x axis is the value and y axis is the count. Let the histogram's number of bins be 10.\n",
    "\n",
    "Your output should look like below:\n",
    "\n",
    "![uniform distribution](ud.png)"
   ]
  },
  {
   "cell_type": "code",
   "execution_count": 55,
   "metadata": {},
   "outputs": [],
   "source": [
    "# your code here\n",
    "import pandas as pd\n",
    "import numpy as np\n",
    "import random\n",
    "import matplotlib.pyplot as plt\n",
    "import math"
   ]
  },
  {
   "cell_type": "code",
   "execution_count": 31,
   "metadata": {},
   "outputs": [],
   "source": [
    "def uniformita(bottom,ceiling,count): \n",
    "    return [ bottom + random.random() * (ceiling - bottom) for i in range(count)]"
   ]
  },
  {
   "cell_type": "code",
   "execution_count": 32,
   "metadata": {},
   "outputs": [],
   "source": [
    "dist1 = uniformita(10,15,100)"
   ]
  },
  {
   "cell_type": "code",
   "execution_count": 23,
   "metadata": {},
   "outputs": [],
   "source": [
    "dist2 = uniformita(10,60,1000)"
   ]
  },
  {
   "cell_type": "code",
   "execution_count": 35,
   "metadata": {},
   "outputs": [
    {
     "data": {
      "text/plain": [
       "(array([10., 10., 13.,  8.,  5., 15., 10.,  6., 12., 11.]),\n",
       " array([10.01543238, 10.50765474, 10.99987711, 11.49209947, 11.98432183,\n",
       "        12.47654419, 12.96876655, 13.46098891, 13.95321127, 14.44543363,\n",
       "        14.937656  ]),\n",
       " <a list of 10 Patch objects>)"
      ]
     },
     "execution_count": 35,
     "metadata": {},
     "output_type": "execute_result"
    },
    {
     "data": {
      "image/png": "[encoded data removed]",
      "text/plain": [
       "<Figure size 432x288 with 1 Axes>"
      ]
     },
     "metadata": {
      "needs_background": "light"
     },
     "output_type": "display_data"
    }
   ],
   "source": [
    "plt.hist(dist1, bins=10) #otra forma plt.hist(dist1, density=True, bins=10)"
   ]
  },
  {
   "cell_type": "code",
   "execution_count": 36,
   "metadata": {},
   "outputs": [
    {
     "data": {
      "text/plain": [
       "(array([ 98.,  88., 103.,  97., 109., 119.,  97.,  92., 104.,  93.]),\n",
       " array([10.03399466, 15.0261778 , 20.01836094, 25.01054408, 30.00272722,\n",
       "        34.99491036, 39.9870935 , 44.97927664, 49.97145978, 54.96364292,\n",
       "        59.95582606]),\n",
       " <a list of 10 Patch objects>)"
      ]
     },
     "execution_count": 36,
     "metadata": {},
     "output_type": "execute_result"
    },
    {
     "data": {
      "image/png": "[encoded data removed]",
      "text/plain": [
       "<Figure size 432x288 with 1 Axes>"
      ]
     },
     "metadata": {
      "needs_background": "light"
     },
     "output_type": "display_data"
    }
   ],
   "source": [
    "plt.hist(dist2, bins=10)"
   ]
  },
  {
   "cell_type": "markdown",
   "metadata": {},
   "source": [
    "How are the two distributions different?"
   ]
  },
  {
   "cell_type": "code",
   "execution_count": null,
   "metadata": {},
   "outputs": [],
   "source": [
    "# your answer below\n",
    "'''\n",
    "Mientras más counts se tomen nos acercamos más a tener una distribución uniforme\n",
    "'''"
   ]
  },
  {
   "cell_type": "markdown",
   "metadata": {},
   "source": [
    "## Normal Distribution\n",
    "\n",
    "1. In the same way in the Uniform Distribution challenge, write a function that generates normally distributed random numbers.\n",
    "1. Generate 1,000 normally distributed numbers with the average of 10 and standard deviation of 1\n",
    "1. Generate 1,000 normally distributed numbers with the average of 10 and standard deviation of 50\n",
    "2. Plot the distributions of the data generated.\n",
    "\n",
    "Expected output:\n",
    "\n",
    "![normal distribution](nd.png)"
   ]
  },
  {
   "cell_type": "code",
   "execution_count": 82,
   "metadata": {},
   "outputs": [],
   "source": [
    "# your code here\n",
    "def normalita(mu,sigma,count):\n",
    "    return [random.gauss(mu, sigma) for i in range(count)]"
   ]
  },
  {
   "cell_type": "code",
   "execution_count": 85,
   "metadata": {},
   "outputs": [],
   "source": [
    "dist3 = normalita(10,1,1000)"
   ]
  },
  {
   "cell_type": "code",
   "execution_count": 89,
   "metadata": {},
   "outputs": [
    {
     "data": {
      "text/plain": [
       "(array([ 1.,  1.,  0.,  0.,  0.,  0.,  1.,  0.,  1.,  1.,  0.,  0.,  1.,\n",
       "         1.,  1.,  1.,  3.,  1.,  1.,  4.,  7.,  4.,  5.,  1.,  5.,  8.,\n",
       "         7., 10.,  0., 10., 12., 11., 16.,  7., 12.,  9., 15., 15., 13.,\n",
       "        17., 26., 19., 21., 20., 20., 18., 19., 17., 26., 28., 27., 23.,\n",
       "        26., 29., 27., 20., 25., 19., 17., 19., 35., 18., 16., 16., 24.,\n",
       "        14., 21., 18., 19., 15., 17.,  8., 17., 14.,  8.,  8., 11.,  6.,\n",
       "         9.,  3.,  8.,  9.,  2.,  4.,  7.,  3.,  3.,  2.,  3.,  2.,  1.,\n",
       "         2.,  0.,  2.,  2.,  0.,  1.,  1.,  2.,  1.]),\n",
       " array([ 6.68267663,  6.74498908,  6.80730154,  6.86961399,  6.93192645,\n",
       "         6.9942389 ,  7.05655136,  7.11886381,  7.18117627,  7.24348872,\n",
       "         7.30580118,  7.36811363,  7.43042609,  7.49273854,  7.555051  ,\n",
       "         7.61736345,  7.67967591,  7.74198836,  7.80430082,  7.86661327,\n",
       "         7.92892573,  7.99123818,  8.05355064,  8.11586309,  8.17817555,\n",
       "         8.240488  ,  8.30280046,  8.36511291,  8.42742537,  8.48973782,\n",
       "         8.55205028,  8.61436273,  8.67667519,  8.73898764,  8.8013001 ,\n",
       "         8.86361255,  8.92592501,  8.98823746,  9.05054991,  9.11286237,\n",
       "         9.17517482,  9.23748728,  9.29979973,  9.36211219,  9.42442464,\n",
       "         9.4867371 ,  9.54904955,  9.61136201,  9.67367446,  9.73598692,\n",
       "         9.79829937,  9.86061183,  9.92292428,  9.98523674, 10.04754919,\n",
       "        10.10986165, 10.1721741 , 10.23448656, 10.29679901, 10.35911147,\n",
       "        10.42142392, 10.48373638, 10.54604883, 10.60836129, 10.67067374,\n",
       "        10.7329862 , 10.79529865, 10.85761111, 10.91992356, 10.98223602,\n",
       "        11.04454847, 11.10686093, 11.16917338, 11.23148584, 11.29379829,\n",
       "        11.35611075, 11.4184232 , 11.48073566, 11.54304811, 11.60536057,\n",
       "        11.66767302, 11.72998548, 11.79229793, 11.85461038, 11.91692284,\n",
       "        11.97923529, 12.04154775, 12.1038602 , 12.16617266, 12.22848511,\n",
       "        12.29079757, 12.35311002, 12.41542248, 12.47773493, 12.54004739,\n",
       "        12.60235984, 12.6646723 , 12.72698475, 12.78929721, 12.85160966,\n",
       "        12.91392212]),\n",
       " <a list of 100 Patch objects>)"
      ]
     },
     "execution_count": 89,
     "metadata": {},
     "output_type": "execute_result"
    },
    {
     "data": {
      "image/png": "[encoded data removed]",
      "text/plain": [
       "<Figure size 432x288 with 1 Axes>"
      ]
     },
     "metadata": {
      "needs_background": "light"
     },
     "output_type": "display_data"
    }
   ],
   "source": [
    "plt.hist(dist3, bins = 100)"
   ]
  },
  {
   "cell_type": "code",
   "execution_count": 87,
   "metadata": {},
   "outputs": [],
   "source": [
    "dist4 = normalita(0,50,1000)"
   ]
  },
  {
   "cell_type": "code",
   "execution_count": 90,
   "metadata": {},
   "outputs": [
    {
     "data": {
      "text/plain": [
       "(array([ 1.,  0.,  0.,  1.,  0.,  2.,  0.,  0.,  0.,  1.,  2.,  0.,  2.,\n",
       "         0.,  4.,  2.,  2.,  6.,  4.,  3.,  3.,  2.,  6.,  2.,  7.,  6.,\n",
       "        11.,  7.,  5., 11., 14.,  9., 13., 16., 17., 15., 18., 15., 15.,\n",
       "        19., 22., 14., 15., 19., 25., 24., 28., 23., 29., 20., 28., 20.,\n",
       "        19., 20., 29., 20., 17., 20., 22., 24., 23., 19., 16., 24., 12.,\n",
       "        17., 20., 12., 10., 13., 20., 12., 13., 11., 10.,  9.,  8.,  5.,\n",
       "         4.,  3., 10.,  7.,  5.,  3.,  3.,  3.,  3.,  4.,  6.,  2.,  0.,\n",
       "         2.,  3.,  1.,  0.,  2.,  1.,  2.,  1.,  2.]),\n",
       " array([-153.47669153, -150.57689744, -147.67710335, -144.77730926,\n",
       "        -141.87751516, -138.97772107, -136.07792698, -133.17813288,\n",
       "        -130.27833879, -127.3785447 , -124.47875061, -121.57895651,\n",
       "        -118.67916242, -115.77936833, -112.87957424, -109.97978014,\n",
       "        -107.07998605, -104.18019196, -101.28039787,  -98.38060377,\n",
       "         -95.48080968,  -92.58101559,  -89.6812215 ,  -86.7814274 ,\n",
       "         -83.88163331,  -80.98183922,  -78.08204513,  -75.18225103,\n",
       "         -72.28245694,  -69.38266285,  -66.48286876,  -63.58307466,\n",
       "         -60.68328057,  -57.78348648,  -54.88369239,  -51.98389829,\n",
       "         -49.0841042 ,  -46.18431011,  -43.28451602,  -40.38472192,\n",
       "         -37.48492783,  -34.58513374,  -31.68533965,  -28.78554555,\n",
       "         -25.88575146,  -22.98595737,  -20.08616328,  -17.18636918,\n",
       "         -14.28657509,  -11.386781  ,   -8.48698691,   -5.58719281,\n",
       "          -2.68739872,    0.21239537,    3.11218946,    6.01198356,\n",
       "           8.91177765,   11.81157174,   14.71136583,   17.61115993,\n",
       "          20.51095402,   23.41074811,   26.3105422 ,   29.2103363 ,\n",
       "          32.11013039,   35.00992448,   37.90971858,   40.80951267,\n",
       "          43.70930676,   46.60910085,   49.50889495,   52.40868904,\n",
       "          55.30848313,   58.20827722,   61.10807132,   64.00786541,\n",
       "          66.9076595 ,   69.80745359,   72.70724769,   75.60704178,\n",
       "          78.50683587,   81.40662996,   84.30642406,   87.20621815,\n",
       "          90.10601224,   93.00580633,   95.90560043,   98.80539452,\n",
       "         101.70518861,  104.6049827 ,  107.5047768 ,  110.40457089,\n",
       "         113.30436498,  116.20415907,  119.10395317,  122.00374726,\n",
       "         124.90354135,  127.80333544,  130.70312954,  133.60292363,\n",
       "         136.50271772]),\n",
       " <a list of 100 Patch objects>)"
      ]
     },
     "execution_count": 90,
     "metadata": {},
     "output_type": "execute_result"
    },
    {
     "data": {
      "image/png": "[encoded data removed]",
      "text/plain": [
       "<Figure size 432x288 with 1 Axes>"
      ]
     },
     "metadata": {
      "needs_background": "light"
     },
     "output_type": "display_data"
    }
   ],
   "source": [
    "plt.hist(dist4, bins=100)"
   ]
  },
  {
   "cell_type": "markdown",
   "metadata": {},
   "source": [
    "How are the two distributions different?"
   ]
  },
  {
   "cell_type": "code",
   "execution_count": 69,
   "metadata": {},
   "outputs": [],
   "source": [
    "# your answer below\n",
    "'''\n",
    "Al igual que en la distribución anterior mientras más counts haya nos \n",
    "acercamos más a la forma conocida de la distribución normal\n",
    "'''"
   ]
  },
  {
   "cell_type": "markdown",
   "metadata": {},
   "source": [
    "## Normal Distribution of Real Data\n",
    "\n",
    "In this challenge we are going to take a look the real data. We will use vehicles.csv file for this exercise"
   ]
  },
  {
   "cell_type": "markdown",
   "metadata": {},
   "source": [
    "First import vehicles.csv.\n",
    "Then plot the histograms for the following variables:\n",
    "\n",
    "1. Fuel Barrels/Year"
   ]
  },
  {
   "cell_type": "code",
   "execution_count": 56,
   "metadata": {},
   "outputs": [],
   "source": [
    "# your code here\n",
    "vehicles = pd.read_csv('vehicles.csv')"
   ]
  },
  {
   "cell_type": "markdown",
   "metadata": {},
   "source": [
    "2. CO2 Emission Grams/Mile "
   ]
  },
  {
   "cell_type": "code",
   "execution_count": 58,
   "metadata": {},
   "outputs": [
    {
     "data": {
      "text/plain": [
       "(array([1.300e+01, 2.100e+01, 1.490e+02, 6.830e+02, 3.422e+03, 6.783e+03,\n",
       "        9.421e+03, 5.990e+03, 2.530e+03, 4.295e+03, 1.276e+03, 7.340e+02,\n",
       "        4.430e+02, 1.300e+02, 0.000e+00, 3.600e+01, 0.000e+00, 2.100e+01,\n",
       "        0.000e+00, 5.000e+00]),\n",
       " array([  37.        ,   98.62857143,  160.25714286,  221.88571429,\n",
       "         283.51428571,  345.14285714,  406.77142857,  468.4       ,\n",
       "         530.02857143,  591.65714286,  653.28571429,  714.91428571,\n",
       "         776.54285714,  838.17142857,  899.8       ,  961.42857143,\n",
       "        1023.05714286, 1084.68571429, 1146.31428571, 1207.94285714,\n",
       "        1269.57142857]),\n",
       " <a list of 20 Patch objects>)"
      ]
     },
     "execution_count": 58,
     "metadata": {},
     "output_type": "execute_result"
    },
    {
     "data": {
      "image/png": "[encoded data removed]",
      "text/plain": [
       "<Figure size 432x288 with 1 Axes>"
      ]
     },
     "metadata": {
      "needs_background": "light"
     },
     "output_type": "display_data"
    }
   ],
   "source": [
    "# your code here\n",
    "plt.hist(vehicles['CO2 Emission Grams/Mile'], bins=20)"
   ]
  },
  {
   "cell_type": "markdown",
   "metadata": {},
   "source": [
    "3. Combined MPG"
   ]
  },
  {
   "cell_type": "code",
   "execution_count": 59,
   "metadata": {},
   "outputs": [
    {
     "data": {
      "text/plain": [
       "(array([6.600e+01, 5.720e+02, 3.943e+03, 4.556e+03, 9.261e+03, 6.251e+03,\n",
       "        5.587e+03, 2.345e+03, 1.784e+03, 6.320e+02, 3.450e+02, 2.910e+02,\n",
       "        8.400e+01, 1.260e+02, 4.400e+01, 2.100e+01, 1.800e+01, 1.500e+01,\n",
       "        9.000e+00, 2.000e+00]),\n",
       " array([ 7.  ,  9.45, 11.9 , 14.35, 16.8 , 19.25, 21.7 , 24.15, 26.6 ,\n",
       "        29.05, 31.5 , 33.95, 36.4 , 38.85, 41.3 , 43.75, 46.2 , 48.65,\n",
       "        51.1 , 53.55, 56.  ]),\n",
       " <a list of 20 Patch objects>)"
      ]
     },
     "execution_count": 59,
     "metadata": {},
     "output_type": "execute_result"
    },
    {
     "data": {
      "image/png": "[encoded data removed]",
      "text/plain": [
       "<Figure size 432x288 with 1 Axes>"
      ]
     },
     "metadata": {
      "needs_background": "light"
     },
     "output_type": "display_data"
    }
   ],
   "source": [
    "# your code here\n",
    "plt.hist(vehicles['Combined MPG'], bins=20)"
   ]
  },
  {
   "cell_type": "markdown",
   "metadata": {},
   "source": [
    "Which one(s) of the variables are nearly normally distributed? How do you know?"
   ]
  },
  {
   "cell_type": "code",
   "execution_count": null,
   "metadata": {},
   "outputs": [],
   "source": [
    "# your answer here\n",
    "'''\n",
    "Considero que ninguna es realemnte normal debido a que tienen 'colita', \n",
    "es decir que los datos más grandes o mpas pequeños no son simétricos\n",
    "'''"
   ]
  },
  {
   "cell_type": "markdown",
   "metadata": {},
   "source": [
    "## Exponential Distribution"
   ]
  },
  {
   "cell_type": "markdown",
   "metadata": {},
   "source": [
    "1. Using `numpy.random.exponential`, create a function that returns a list of numbers exponentially distributed with the mean of 10. \n",
    "\n",
    "1. Use the function to generate two number sequences with the size of 1 and 100.\n",
    "\n",
    "1. Plot the distributions as histograms with the nubmer of bins as 100.\n",
    "\n",
    "Your output should look like below:\n",
    "\n",
    "![exponential distribution](ed.png)"
   ]
  },
  {
   "cell_type": "code",
   "execution_count": 93,
   "metadata": {},
   "outputs": [],
   "source": [
    "# your code here\n",
    "\n",
    "#mean = 1/lambda = factor de escala \n",
    "def exponencialita(mean, count): \n",
    "    return [np.random.exponential(mean) for i in range(count)]"
   ]
  },
  {
   "cell_type": "code",
   "execution_count": 103,
   "metadata": {},
   "outputs": [],
   "source": [
    "dist5 = exponencialita(10,1000)"
   ]
  },
  {
   "cell_type": "code",
   "execution_count": 104,
   "metadata": {},
   "outputs": [
    {
     "data": {
      "text/plain": [
       "(array([95., 83., 65., 73., 60., 64., 61., 39., 35., 37., 32., 35., 30.,\n",
       "        28., 19., 17., 19., 13., 16., 12., 20.,  9., 13., 10., 12.,  5.,\n",
       "         6., 11.,  7.,  4.,  8., 11.,  5.,  7.,  5.,  2.,  3.,  1.,  1.,\n",
       "         2.,  3.,  1.,  0.,  4.,  3.,  1.,  0.,  1.,  0.,  1.,  1.,  0.,\n",
       "         0.,  0.,  1.,  2.,  0.,  0.,  0.,  1.,  0.,  0.,  1.,  0.,  0.,\n",
       "         1.,  0.,  0.,  0.,  0.,  1.,  1.,  0.,  0.,  0.,  0.,  0.,  0.,\n",
       "         0.,  0.,  0.,  0.,  1.,  0.,  0.,  0.,  0.,  0.,  0.,  0.,  0.,\n",
       "         0.,  0.,  0.,  0.,  0.,  0.,  0.,  0.,  1.]),\n",
       " array([1.22048127e-02, 9.89592869e-01, 1.96698093e+00, 2.94436898e+00,\n",
       "        3.92175704e+00, 4.89914509e+00, 5.87653315e+00, 6.85392121e+00,\n",
       "        7.83130926e+00, 8.80869732e+00, 9.78608537e+00, 1.07634734e+01,\n",
       "        1.17408615e+01, 1.27182495e+01, 1.36956376e+01, 1.46730257e+01,\n",
       "        1.56504137e+01, 1.66278018e+01, 1.76051898e+01, 1.85825779e+01,\n",
       "        1.95599659e+01, 2.05373540e+01, 2.15147420e+01, 2.24921301e+01,\n",
       "        2.34695182e+01, 2.44469062e+01, 2.54242943e+01, 2.64016823e+01,\n",
       "        2.73790704e+01, 2.83564584e+01, 2.93338465e+01, 3.03112346e+01,\n",
       "        3.12886226e+01, 3.22660107e+01, 3.32433987e+01, 3.42207868e+01,\n",
       "        3.51981748e+01, 3.61755629e+01, 3.71529509e+01, 3.81303390e+01,\n",
       "        3.91077271e+01, 4.00851151e+01, 4.10625032e+01, 4.20398912e+01,\n",
       "        4.30172793e+01, 4.39946673e+01, 4.49720554e+01, 4.59494435e+01,\n",
       "        4.69268315e+01, 4.79042196e+01, 4.88816076e+01, 4.98589957e+01,\n",
       "        5.08363837e+01, 5.18137718e+01, 5.27911598e+01, 5.37685479e+01,\n",
       "        5.47459360e+01, 5.57233240e+01, 5.67007121e+01, 5.76781001e+01,\n",
       "        5.86554882e+01, 5.96328762e+01, 6.06102643e+01, 6.15876524e+01,\n",
       "        6.25650404e+01, 6.35424285e+01, 6.45198165e+01, 6.54972046e+01,\n",
       "        6.64745926e+01, 6.74519807e+01, 6.84293687e+01, 6.94067568e+01,\n",
       "        7.03841449e+01, 7.13615329e+01, 7.23389210e+01, 7.33163090e+01,\n",
       "        7.42936971e+01, 7.52710851e+01, 7.62484732e+01, 7.72258613e+01,\n",
       "        7.82032493e+01, 7.91806374e+01, 8.01580254e+01, 8.11354135e+01,\n",
       "        8.21128015e+01, 8.30901896e+01, 8.40675776e+01, 8.50449657e+01,\n",
       "        8.60223538e+01, 8.69997418e+01, 8.79771299e+01, 8.89545179e+01,\n",
       "        8.99319060e+01, 9.09092940e+01, 9.18866821e+01, 9.28640702e+01,\n",
       "        9.38414582e+01, 9.48188463e+01, 9.57962343e+01, 9.67736224e+01,\n",
       "        9.77510104e+01]),\n",
       " <a list of 100 Patch objects>)"
      ]
     },
     "execution_count": 104,
     "metadata": {},
     "output_type": "execute_result"
    },
    {
     "data": {
      "image/png": "[encoded data removed]",
      "text/plain": [
       "<Figure size 432x288 with 1 Axes>"
      ]
     },
     "metadata": {
      "needs_background": "light"
     },
     "output_type": "display_data"
    }
   ],
   "source": [
    "plt.hist(dist5, bins=100)"
   ]
  },
  {
   "cell_type": "code",
   "execution_count": 101,
   "metadata": {},
   "outputs": [],
   "source": [
    "dist6 = exponencialita(1,1000)"
   ]
  },
  {
   "cell_type": "code",
   "execution_count": 102,
   "metadata": {},
   "outputs": [
    {
     "data": {
      "text/plain": [
       "(array([80., 74., 77., 65., 55., 57., 45., 51., 40., 49., 30., 33., 27.,\n",
       "        29., 25., 25., 23., 23., 17., 17., 17., 12.,  9., 10., 11., 10.,\n",
       "        10.,  5.,  4.,  6.,  4.,  1.,  7.,  2.,  3.,  3.,  3.,  2.,  3.,\n",
       "         2.,  2.,  1.,  5.,  2.,  2.,  3.,  0.,  0.,  0.,  2.,  0.,  0.,\n",
       "         1.,  1.,  0.,  1.,  1.,  0.,  1.,  0.,  2.,  1.,  1.,  0.,  1.,\n",
       "         1.,  0.,  0.,  0.,  0.,  1.,  0.,  0.,  1.,  0.,  0.,  0.,  0.,\n",
       "         0.,  0.,  0.,  1.,  0.,  1.,  0.,  0.,  0.,  0.,  0.,  0.,  0.,\n",
       "         0.,  0.,  0.,  0.,  0.,  0.,  1.,  0.,  1.]),\n",
       " array([9.88715346e-04, 8.66815279e-02, 1.72374340e-01, 2.58067153e-01,\n",
       "        3.43759965e-01, 4.29452778e-01, 5.15145590e-01, 6.00838403e-01,\n",
       "        6.86531215e-01, 7.72224028e-01, 8.57916840e-01, 9.43609653e-01,\n",
       "        1.02930247e+00, 1.11499528e+00, 1.20068809e+00, 1.28638090e+00,\n",
       "        1.37207372e+00, 1.45776653e+00, 1.54345934e+00, 1.62915215e+00,\n",
       "        1.71484497e+00, 1.80053778e+00, 1.88623059e+00, 1.97192340e+00,\n",
       "        2.05761622e+00, 2.14330903e+00, 2.22900184e+00, 2.31469465e+00,\n",
       "        2.40038747e+00, 2.48608028e+00, 2.57177309e+00, 2.65746590e+00,\n",
       "        2.74315872e+00, 2.82885153e+00, 2.91454434e+00, 3.00023715e+00,\n",
       "        3.08592997e+00, 3.17162278e+00, 3.25731559e+00, 3.34300840e+00,\n",
       "        3.42870122e+00, 3.51439403e+00, 3.60008684e+00, 3.68577965e+00,\n",
       "        3.77147247e+00, 3.85716528e+00, 3.94285809e+00, 4.02855090e+00,\n",
       "        4.11424372e+00, 4.19993653e+00, 4.28562934e+00, 4.37132215e+00,\n",
       "        4.45701497e+00, 4.54270778e+00, 4.62840059e+00, 4.71409340e+00,\n",
       "        4.79978622e+00, 4.88547903e+00, 4.97117184e+00, 5.05686465e+00,\n",
       "        5.14255747e+00, 5.22825028e+00, 5.31394309e+00, 5.39963590e+00,\n",
       "        5.48532872e+00, 5.57102153e+00, 5.65671434e+00, 5.74240715e+00,\n",
       "        5.82809997e+00, 5.91379278e+00, 5.99948559e+00, 6.08517840e+00,\n",
       "        6.17087122e+00, 6.25656403e+00, 6.34225684e+00, 6.42794965e+00,\n",
       "        6.51364247e+00, 6.59933528e+00, 6.68502809e+00, 6.77072090e+00,\n",
       "        6.85641372e+00, 6.94210653e+00, 7.02779934e+00, 7.11349215e+00,\n",
       "        7.19918497e+00, 7.28487778e+00, 7.37057059e+00, 7.45626340e+00,\n",
       "        7.54195622e+00, 7.62764903e+00, 7.71334184e+00, 7.79903465e+00,\n",
       "        7.88472747e+00, 7.97042028e+00, 8.05611309e+00, 8.14180590e+00,\n",
       "        8.22749872e+00, 8.31319153e+00, 8.39888434e+00, 8.48457715e+00,\n",
       "        8.57026997e+00]),\n",
       " <a list of 100 Patch objects>)"
      ]
     },
     "execution_count": 102,
     "metadata": {},
     "output_type": "execute_result"
    },
    {
     "data": {
      "image/png": "[encoded data removed]",
      "text/plain": [
       "<Figure size 432x288 with 1 Axes>"
      ]
     },
     "metadata": {
      "needs_background": "light"
     },
     "output_type": "display_data"
    }
   ],
   "source": [
    "plt.hist(dist6, bins=100)"
   ]
  },
  {
   "cell_type": "markdown",
   "metadata": {},
   "source": [
    "How are the two distributions different?"
   ]
  },
  {
   "cell_type": "code",
   "execution_count": null,
   "metadata": {},
   "outputs": [],
   "source": [
    "# your answer here\n",
    "'''\n",
    "Considero que la instrucción 2 no está clara, por lo que la reemplazaré con \n",
    "comparar una distribución de promedio 10 y una de promedio 1\n",
    "\n",
    "Ahora bien de forma rápida parece que la distribución con promedio 1 se parece más \n",
    "una distribución exponenecial\n",
    "'''"
   ]
  },
  {
   "cell_type": "markdown",
   "metadata": {},
   "source": [
    "## Exponential Distribution of Real Data\n",
    "\n",
    "Suppose that the amount of time one spends in a bank is exponentially distributed with mean as 10 minutes (i.e. λ = 1/10). What is the probability that a customer will spend less than fifteen minutes in the bank? \n",
    "\n",
    "Write a code in python to solve this problem"
   ]
  },
  {
   "cell_type": "code",
   "execution_count": 110,
   "metadata": {},
   "outputs": [],
   "source": [
    "# your answer here\n",
    "# Hint: This is same as saying P(x<15)\n",
    "\n",
    "from scipy.stats import expon\n",
    "from scipy import integrate"
   ]
  },
  {
   "cell_type": "code",
   "execution_count": 116,
   "metadata": {},
   "outputs": [
    {
     "data": {
      "text/plain": [
       "(0.7768698398515702, 8.624987833400713e-15)"
      ]
     },
     "execution_count": 116,
     "metadata": {},
     "output_type": "execute_result"
    }
   ],
   "source": [
    "# Set local variables\n",
    "lam = 1/10         #mean = 1/lam Fuente:wiki\n",
    "theta = 1 / lam\n",
    "x_min = 0\n",
    "x_max = 15\n",
    "\n",
    "# Create PDF\n",
    "y = lambda x: (lam)*np.exp(-lam*x)\n",
    "\n",
    "# Integrate\n",
    "integrate.quad(y, x_min, x_max)"
   ]
  },
  {
   "cell_type": "code",
   "execution_count": null,
   "metadata": {},
   "outputs": [],
   "source": [
    "''' el resultado es 77.686 %'''"
   ]
  },
  {
   "cell_type": "markdown",
   "metadata": {},
   "source": [
    "What is the probability that the customer will spend more than 15 minutes"
   ]
  },
  {
   "cell_type": "code",
   "execution_count": null,
   "metadata": {},
   "outputs": [],
   "source": [
    "# your answer here\n",
    "''' Tomamos el complemento de la probabilidad de que el cliente esté menos de 15 minutos\n",
    "es decir, p(x>15) = 1 - p(x<15)'''"
   ]
  },
  {
   "cell_type": "code",
   "execution_count": 115,
   "metadata": {},
   "outputs": [
    {
     "data": {
      "text/plain": [
       "0.2231301601484298"
      ]
     },
     "execution_count": 115,
     "metadata": {},
     "output_type": "execute_result"
    }
   ],
   "source": [
    "(1-0.7768698398515702)"
   ]
  },
  {
   "cell_type": "code",
   "execution_count": null,
   "metadata": {},
   "outputs": [],
   "source": [
    "''' La probabilidad es el 22.313 %'''"
   ]
  }
 ],
 "metadata": {
  "kernelspec": {
   "display_name": "Python 3",
   "language": "python",
   "name": "python3"
  },
  "language_info": {
   "codemirror_mode": {
    "name": "ipython",
    "version": 3
   },
   "file_extension": ".py",
   "mimetype": "text/x-python",
   "name": "python",
   "nbconvert_exporter": "python",
   "pygments_lexer": "ipython3",
   "version": "3.7.3"
  }
 },
 "nbformat": 4,
 "nbformat_minor": 2
}
